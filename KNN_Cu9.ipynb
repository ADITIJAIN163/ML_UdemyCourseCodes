{
 "cells": [
  {
   "cell_type": "code",
   "execution_count": 10,
   "metadata": {},
   "outputs": [],
   "source": [
    "import numpy as np\n",
    "import matplotlib.pyplot as plt\n",
    "import pandas as pd"
   ]
  },
  {
   "cell_type": "code",
   "execution_count": 11,
   "metadata": {},
   "outputs": [],
   "source": [
    "dataset=pd.read_csv('Social_Network_Ads.csv')\n",
    "X=dataset.iloc[:,:-1].values\n",
    "y=dataset.iloc[:,-1].values"
   ]
  },
  {
   "cell_type": "code",
   "execution_count": 12,
   "metadata": {},
   "outputs": [],
   "source": [
    "from sklearn.model_selection import train_test_split\n",
    "X_train,X_test,y_train,y_test=train_test_split(X,y,test_size=0.25,random_state=0)"
   ]
  },
  {
   "cell_type": "code",
   "execution_count": 13,
   "metadata": {},
   "outputs": [],
   "source": [
    "from sklearn.preprocessing import StandardScaler\n",
    "sc=StandardScaler()\n",
    "X_train=sc.fit_transform(X_train)\n",
    "X_test=sc.fit_transform(X_test)"
   ]
  },
  {
   "cell_type": "code",
   "execution_count": 14,
   "metadata": {},
   "outputs": [
    {
     "name": "stdout",
     "output_type": "stream",
     "text": [
      "[[-0.54748976  0.5130727 ]\n",
      " [ 0.15442019 -0.61825566]\n",
      " [-0.10879604  0.14615539]\n",
      " [-0.54748976  0.26846116]\n",
      " [-0.10879604 -0.61825566]\n",
      " [-0.81070599 -1.53554892]\n",
      " [-0.45975102 -1.68843113]\n",
      " [-0.0210573   2.25592989]\n",
      " [-1.60035469 -0.0678797 ]\n",
      " [ 0.94406888 -0.83229075]\n",
      " [-0.54748976 -0.6488321 ]\n",
      " [-0.72296725 -0.46537345]\n",
      " [ 0.06668145 -0.46537345]\n",
      " [ 0.24215893  0.20730828]\n",
      " [-1.4248772   0.48249625]\n",
      " [-0.37201227  1.43036596]\n",
      " [ 0.06668145  0.20730828]\n",
      " [-1.51261594  0.45191981]\n",
      " [ 1.64597884  1.8278597 ]\n",
      " [-0.10879604 -1.47439603]\n",
      " [-0.10879604 -0.70998498]\n",
      " [ 0.94406888  2.25592989]\n",
      " [ 0.41763642 -0.58767922]\n",
      " [ 0.94406888  1.06344865]\n",
      " [-1.16166097 -1.29093738]\n",
      " [ 1.11954637  2.16420057]\n",
      " [-0.72296725  0.5130727 ]\n",
      " [-0.63522851  0.2990376 ]\n",
      " [ 0.06668145 -0.25133835]\n",
      " [-0.37201227  0.48249625]\n",
      " [-1.33713846  0.54364914]\n",
      " [ 0.06668145  0.26846116]\n",
      " [ 1.82145632 -0.31249124]\n",
      " [ 0.06668145 -0.52652633]\n",
      " [-1.07392223 -0.37364412]\n",
      " [-1.60035469 -0.55710277]\n",
      " [-1.24939971  0.32961404]\n",
      " [-0.19653479 -0.83229075]\n",
      " [-0.45975102 -1.10747873]\n",
      " [ 1.11954637 -1.04632585]\n",
      " [-0.81070599  0.54364914]\n",
      " [ 0.41763642 -0.55710277]\n",
      " [-0.81070599  0.42134337]\n",
      " [-0.10879604 -1.53554892]\n",
      " [ 0.59311391  1.27748375]\n",
      " [-0.81070599 -0.37364412]\n",
      " [ 0.06668145  0.2990376 ]\n",
      " [ 1.3827626   0.60480202]\n",
      " [-0.89844474 -1.2297845 ]\n",
      " [ 1.11954637  0.48249625]\n",
      " [ 1.82145632  1.58324817]\n",
      " [-0.19653479 -1.38266671]\n",
      " [-0.10879604 -0.40422056]\n",
      " [-0.19653479  1.36921307]\n",
      " [ 1.99693381  0.54364914]\n",
      " [ 0.7685914  -1.16863161]\n",
      " [-0.63522851  0.39076693]\n",
      " [-0.89844474  0.2990376 ]\n",
      " [ 1.11954637 -1.29093738]\n",
      " [-1.16166097 -1.53554892]\n",
      " [-0.37201227 -1.5967018 ]\n",
      " [ 2.08467255 -0.86286719]\n",
      " [-1.51261594  0.17673183]\n",
      " [-0.0210573   0.87999   ]\n",
      " [-1.51261594 -1.35209027]\n",
      " [ 2.08467255  0.39076693]\n",
      " [-1.07392223  0.57422558]\n",
      " [-0.81070599 -0.37364412]\n",
      " [ 0.32989768 -0.70998498]\n",
      " [ 0.50537516 -0.00672682]\n",
      " [-0.37201227  2.43938854]\n",
      " [-0.10879604  0.20730828]\n",
      " [-1.24939971 -0.22076191]\n",
      " [ 0.7685914  -1.47439603]\n",
      " [-0.81070599  0.57422558]\n",
      " [-1.60035469  0.36019049]\n",
      " [ 0.50537516  0.26846116]\n",
      " [ 0.32989768 -0.31249124]\n",
      " [ 1.47050135 -1.10747873]\n",
      " [ 0.94406888  1.12460154]\n",
      " [ 1.90919507  2.25592989]\n",
      " [ 1.99693381  0.39076693]\n",
      " [-1.07392223 -0.46537345]\n",
      " [-0.89844474 -1.07690229]\n",
      " [ 1.90919507 -0.98517296]\n",
      " [ 0.50537516  0.2990376 ]\n",
      " [ 0.32989768  0.14615539]\n",
      " [ 1.99693381  1.8278597 ]\n",
      " [ 0.85633014 -0.89344364]\n",
      " [ 0.41763642 -0.31249124]\n",
      " [ 0.50537516 -0.19018547]\n",
      " [ 0.06668145  2.31708278]\n",
      " [-1.16166097 -0.67940854]\n",
      " [-0.98618348 -1.13805517]\n",
      " [-1.07392223  0.42134337]\n",
      " [-0.81070599  0.78826068]\n",
      " [-1.16166097 -0.22076191]\n",
      " [ 1.03180763 -1.13805517]\n",
      " [ 1.03180763  0.60480202]\n",
      " [ 0.50537516  1.03287221]]\n"
     ]
    }
   ],
   "source": [
    "print(X_test)"
   ]
  },
  {
   "cell_type": "code",
   "execution_count": 5,
   "metadata": {},
   "outputs": [
    {
     "data": {
      "text/html": [
       "<style>#sk-container-id-1 {color: black;background-color: white;}#sk-container-id-1 pre{padding: 0;}#sk-container-id-1 div.sk-toggleable {background-color: white;}#sk-container-id-1 label.sk-toggleable__label {cursor: pointer;display: block;width: 100%;margin-bottom: 0;padding: 0.3em;box-sizing: border-box;text-align: center;}#sk-container-id-1 label.sk-toggleable__label-arrow:before {content: \"▸\";float: left;margin-right: 0.25em;color: #696969;}#sk-container-id-1 label.sk-toggleable__label-arrow:hover:before {color: black;}#sk-container-id-1 div.sk-estimator:hover label.sk-toggleable__label-arrow:before {color: black;}#sk-container-id-1 div.sk-toggleable__content {max-height: 0;max-width: 0;overflow: hidden;text-align: left;background-color: #f0f8ff;}#sk-container-id-1 div.sk-toggleable__content pre {margin: 0.2em;color: black;border-radius: 0.25em;background-color: #f0f8ff;}#sk-container-id-1 input.sk-toggleable__control:checked~div.sk-toggleable__content {max-height: 200px;max-width: 100%;overflow: auto;}#sk-container-id-1 input.sk-toggleable__control:checked~label.sk-toggleable__label-arrow:before {content: \"▾\";}#sk-container-id-1 div.sk-estimator input.sk-toggleable__control:checked~label.sk-toggleable__label {background-color: #d4ebff;}#sk-container-id-1 div.sk-label input.sk-toggleable__control:checked~label.sk-toggleable__label {background-color: #d4ebff;}#sk-container-id-1 input.sk-hidden--visually {border: 0;clip: rect(1px 1px 1px 1px);clip: rect(1px, 1px, 1px, 1px);height: 1px;margin: -1px;overflow: hidden;padding: 0;position: absolute;width: 1px;}#sk-container-id-1 div.sk-estimator {font-family: monospace;background-color: #f0f8ff;border: 1px dotted black;border-radius: 0.25em;box-sizing: border-box;margin-bottom: 0.5em;}#sk-container-id-1 div.sk-estimator:hover {background-color: #d4ebff;}#sk-container-id-1 div.sk-parallel-item::after {content: \"\";width: 100%;border-bottom: 1px solid gray;flex-grow: 1;}#sk-container-id-1 div.sk-label:hover label.sk-toggleable__label {background-color: #d4ebff;}#sk-container-id-1 div.sk-serial::before {content: \"\";position: absolute;border-left: 1px solid gray;box-sizing: border-box;top: 0;bottom: 0;left: 50%;z-index: 0;}#sk-container-id-1 div.sk-serial {display: flex;flex-direction: column;align-items: center;background-color: white;padding-right: 0.2em;padding-left: 0.2em;position: relative;}#sk-container-id-1 div.sk-item {position: relative;z-index: 1;}#sk-container-id-1 div.sk-parallel {display: flex;align-items: stretch;justify-content: center;background-color: white;position: relative;}#sk-container-id-1 div.sk-item::before, #sk-container-id-1 div.sk-parallel-item::before {content: \"\";position: absolute;border-left: 1px solid gray;box-sizing: border-box;top: 0;bottom: 0;left: 50%;z-index: -1;}#sk-container-id-1 div.sk-parallel-item {display: flex;flex-direction: column;z-index: 1;position: relative;background-color: white;}#sk-container-id-1 div.sk-parallel-item:first-child::after {align-self: flex-end;width: 50%;}#sk-container-id-1 div.sk-parallel-item:last-child::after {align-self: flex-start;width: 50%;}#sk-container-id-1 div.sk-parallel-item:only-child::after {width: 0;}#sk-container-id-1 div.sk-dashed-wrapped {border: 1px dashed gray;margin: 0 0.4em 0.5em 0.4em;box-sizing: border-box;padding-bottom: 0.4em;background-color: white;}#sk-container-id-1 div.sk-label label {font-family: monospace;font-weight: bold;display: inline-block;line-height: 1.2em;}#sk-container-id-1 div.sk-label-container {text-align: center;}#sk-container-id-1 div.sk-container {/* jupyter's `normalize.less` sets `[hidden] { display: none; }` but bootstrap.min.css set `[hidden] { display: none !important; }` so we also need the `!important` here to be able to override the default hidden behavior on the sphinx rendered scikit-learn.org. See: https://github.com/scikit-learn/scikit-learn/issues/21755 */display: inline-block !important;position: relative;}#sk-container-id-1 div.sk-text-repr-fallback {display: none;}</style><div id=\"sk-container-id-1\" class=\"sk-top-container\"><div class=\"sk-text-repr-fallback\"><pre>KNeighborsClassifier()</pre><b>In a Jupyter environment, please rerun this cell to show the HTML representation or trust the notebook. <br />On GitHub, the HTML representation is unable to render, please try loading this page with nbviewer.org.</b></div><div class=\"sk-container\" hidden><div class=\"sk-item\"><div class=\"sk-estimator sk-toggleable\"><input class=\"sk-toggleable__control sk-hidden--visually\" id=\"sk-estimator-id-1\" type=\"checkbox\" checked><label for=\"sk-estimator-id-1\" class=\"sk-toggleable__label sk-toggleable__label-arrow\">KNeighborsClassifier</label><div class=\"sk-toggleable__content\"><pre>KNeighborsClassifier()</pre></div></div></div></div></div>"
      ],
      "text/plain": [
       "KNeighborsClassifier()"
      ]
     },
     "execution_count": 5,
     "metadata": {},
     "output_type": "execute_result"
    }
   ],
   "source": [
    "from sklearn.neighbors import KNeighborsClassifier\n",
    "classifier=KNeighborsClassifier(n_neighbors=5,metric='minkowski',p=2)\n",
    "classifier.fit(X_train,y_train)"
   ]
  },
  {
   "cell_type": "code",
   "execution_count": 6,
   "metadata": {},
   "outputs": [
    {
     "name": "stdout",
     "output_type": "stream",
     "text": [
      "[0]\n"
     ]
    }
   ],
   "source": [
    "print(classifier.predict(sc.fit_transform([[30,87000]])))"
   ]
  },
  {
   "cell_type": "code",
   "execution_count": 7,
   "metadata": {},
   "outputs": [
    {
     "name": "stdout",
     "output_type": "stream",
     "text": [
      "[[0 0]\n",
      " [0 0]\n",
      " [0 0]\n",
      " [0 0]\n",
      " [0 0]\n",
      " [0 0]\n",
      " [0 0]\n",
      " [1 1]\n",
      " [0 0]\n",
      " [1 0]\n",
      " [0 0]\n",
      " [0 0]\n",
      " [0 0]\n",
      " [0 0]\n",
      " [0 0]\n",
      " [1 0]\n",
      " [0 0]\n",
      " [0 0]\n",
      " [1 1]\n",
      " [0 0]\n",
      " [0 0]\n",
      " [1 1]\n",
      " [0 0]\n",
      " [1 1]\n",
      " [0 0]\n",
      " [1 1]\n",
      " [0 0]\n",
      " [0 0]\n",
      " [0 0]\n",
      " [0 0]\n",
      " [0 0]\n",
      " [0 1]\n",
      " [1 1]\n",
      " [0 0]\n",
      " [0 0]\n",
      " [0 0]\n",
      " [0 0]\n",
      " [0 0]\n",
      " [0 0]\n",
      " [1 1]\n",
      " [0 0]\n",
      " [0 0]\n",
      " [0 0]\n",
      " [0 0]\n",
      " [1 1]\n",
      " [0 0]\n",
      " [0 0]\n",
      " [1 1]\n",
      " [0 0]\n",
      " [1 1]\n",
      " [1 1]\n",
      " [0 0]\n",
      " [0 0]\n",
      " [1 0]\n",
      " [1 1]\n",
      " [1 1]\n",
      " [0 0]\n",
      " [0 0]\n",
      " [1 1]\n",
      " [0 0]\n",
      " [0 0]\n",
      " [1 1]\n",
      " [0 0]\n",
      " [1 1]\n",
      " [0 0]\n",
      " [1 1]\n",
      " [0 0]\n",
      " [0 0]\n",
      " [0 0]\n",
      " [0 0]\n",
      " [1 1]\n",
      " [0 0]\n",
      " [0 0]\n",
      " [1 1]\n",
      " [0 0]\n",
      " [0 0]\n",
      " [0 0]\n",
      " [0 0]\n",
      " [1 1]\n",
      " [1 1]\n",
      " [1 1]\n",
      " [1 0]\n",
      " [0 0]\n",
      " [0 0]\n",
      " [1 1]\n",
      " [0 1]\n",
      " [0 0]\n",
      " [1 1]\n",
      " [1 1]\n",
      " [0 0]\n",
      " [0 0]\n",
      " [1 1]\n",
      " [0 0]\n",
      " [0 0]\n",
      " [0 0]\n",
      " [0 1]\n",
      " [0 0]\n",
      " [1 1]\n",
      " [1 1]\n",
      " [1 1]]\n"
     ]
    }
   ],
   "source": [
    "y_pred=classifier.predict(sc.fit_transform(X_test))\n",
    "print(np.concatenate((y_pred.reshape(len(y_pred),1),y_test.reshape(len(y_test),1)),1))"
   ]
  },
  {
   "cell_type": "code",
   "execution_count": 8,
   "metadata": {},
   "outputs": [],
   "source": [
    "from sklearn.metrics import confusion_matrix,accuracy_score\n",
    "cf=confusion_matrix(y_test,y_pred)"
   ]
  },
  {
   "cell_type": "code",
   "execution_count": 9,
   "metadata": {},
   "outputs": [
    {
     "name": "stdout",
     "output_type": "stream",
     "text": [
      "[[64  4]\n",
      " [ 3 29]]\n"
     ]
    },
    {
     "data": {
      "text/plain": [
       "0.93"
      ]
     },
     "execution_count": 9,
     "metadata": {},
     "output_type": "execute_result"
    }
   ],
   "source": [
    "print(cf)\n",
    "accuracy_score(y_test,y_pred)"
   ]
  }
 ],
 "metadata": {
  "kernelspec": {
   "display_name": "Python 3",
   "language": "python",
   "name": "python3"
  },
  "language_info": {
   "codemirror_mode": {
    "name": "ipython",
    "version": 3
   },
   "file_extension": ".py",
   "mimetype": "text/x-python",
   "name": "python",
   "nbconvert_exporter": "python",
   "pygments_lexer": "ipython3",
   "version": "3.11.1 (tags/v3.11.1:a7a450f, Dec  6 2022, 19:58:39) [MSC v.1934 64 bit (AMD64)]"
  },
  "orig_nbformat": 4,
  "vscode": {
   "interpreter": {
    "hash": "28c0999d131895980d4fa726b387b4864eb44d985b5521a4ab75e9a84fa01022"
   }
  }
 },
 "nbformat": 4,
 "nbformat_minor": 2
}
